{
 "cells": [
  {
   "cell_type": "markdown",
   "metadata": {},
   "source": [
    "# Simple Block Chain\n"
   ]
  },
  {
   "cell_type": "markdown",
   "metadata": {},
   "source": [
    "#### Importing Dependencies"
   ]
  },
  {
   "cell_type": "code",
   "execution_count": 1,
   "metadata": {
    "collapsed": true
   },
   "outputs": [],
   "source": [
    "#generates Timestamps \n",
    "import datetime\n",
    "#contains hashing algorithms \n",
    "import hashlib"
   ]
  },
  {
   "cell_type": "markdown",
   "metadata": {},
   "source": [
    "#### Creating a block "
   ]
  },
  {
   "cell_type": "code",
   "execution_count": 2,
   "metadata": {
    "collapsed": true
   },
   "outputs": [],
   "source": [
    "#defining the 'block' data structure\n",
    "class Block:\n",
    "    #each block has 7 attributes \n",
    "  \n",
    "    #1 number of the block\n",
    "    blockNo = 0\n",
    "    #2 what data is stored in this block?\n",
    "    data = None\n",
    "    #3 pointer to the next block\n",
    "    next = None\n",
    "    #4 The hash of this block (serves as a unique ID and verifies its integrity)\n",
    "    #A hash is a function that converts data into a number within a certain range. \n",
    "    hash = None\n",
    "    #5 A nonce is a number only used once  \n",
    "    nonce = 0\n",
    "    #6 store the hash (ID) of the previous block in the chain\n",
    "    previous_hash = 0x0\n",
    "    #7 timestamp \n",
    "    timestamp = datetime.datetime.now()\n",
    "      #We initialize a block by storing some data in it\n",
    "    def __init__(self, data):\n",
    "        self.data = data\n",
    "\n",
    "    #Function to compute 'hash' of a block\n",
    "    #a hash acts as both a unique identifier\n",
    "    #& verifies its integrity\n",
    "    #if someone changes the hash of a block\n",
    "    #every block that comes after it is changed \n",
    "    #this helps make a blockchain immutable\n",
    "    def hash(self):\n",
    "        #SHA-256 is a hashing algorithm that\n",
    "        # generates an almost-unique 256-bit signature that represents\n",
    "        # some piece of text\n",
    "        h = hashlib.sha256()\n",
    "        #the input to the SHA-256 algorithm\n",
    "        #will be a concatenated string\n",
    "        #consisting of 5 block attributes\n",
    "        #the nonce, data, previous hash, timestamp, & block #\n",
    "        h.update(\n",
    "        str(self.nonce).encode('utf-8') +\n",
    "        str(self.data).encode('utf-8') +\n",
    "        str(self.previous_hash).encode('utf-8') +\n",
    "        str(self.timestamp).encode('utf-8') +\n",
    "        str(self.blockNo).encode('utf-8')\n",
    "        )\n",
    "        #returns a hexademical string\n",
    "        return h.hexdigest()\n",
    "    \n",
    "    ## SHOW DEMO 2, change data \n",
    "\n",
    "    def __str__(self):\n",
    "        #print out the value of a block\n",
    "        return \"Block Hash: \" + str(self.hash()) + \"\\nBlockNo: \" + str(self.blockNo) + \"\\nBlock Data: \" + str(self.data) + \"\\nHashes: \" + str(self.nonce) + \"\\n--------------\""
   ]
  },
  {
   "cell_type": "markdown",
   "metadata": {},
   "source": [
    "#### Creating a blockchain "
   ]
  },
  {
   "cell_type": "code",
   "execution_count": 3,
   "metadata": {
    "collapsed": true
   },
   "outputs": [],
   "source": [
    "#defining the blockchain datastructure\n",
    "#consists of 'blocks' linked together\n",
    "#to form a 'chain'. Thats why its called\n",
    "#'blockchain'\n",
    "class Blockchain:\n",
    "    \n",
    "    #mining difficulty\n",
    "    diff = 20\n",
    "    #2^32. This is the maximum number\n",
    "    #we can store in a 32-bit number\n",
    "    maxNonce = 2**32\n",
    "    #target hash, for mining\n",
    "    target = 2 ** (256-diff)\n",
    "\n",
    "    #generates the first block in the blockchain\n",
    "    #this is called the 'genesis block'\n",
    "    block = Block(\"Genesis\")\n",
    "    #sets it as the head of our blockchain\n",
    "    head = block\n",
    "\n",
    "    #adds a given block to the chain of blocks\n",
    "    #the block to be added is the only parameter\n",
    "    def add(self, block):\n",
    "     #set the hash of a given block\n",
    "        #as our new block's previous hash\n",
    "        block.previous_hash = self.block.hash()\n",
    "        #set the block # of our new block\n",
    "        #as the given block's # + 1, since\n",
    "        #its next in the chain\n",
    "        block.blockNo = self.block.blockNo + 1\n",
    "\n",
    "        #set the next block equal to \n",
    "        #itself. This is the new head \n",
    "        #of the blockchain\n",
    "        self.block.next = block\n",
    "        self.block = self.block.next\n",
    "\n",
    "    #Determines whether or not we can add a given block to\n",
    "    #the blockchain\n",
    "    def mine(self, block):\n",
    "        #from 0 to 2^32 \n",
    "        for n in range(self.maxNonce):\n",
    "            #is the value of the given block's hash less than our target value?\n",
    "            if int(block.hash(), 16) <= self.target:\n",
    "                #if it is,\n",
    "                #add the block to the chain\n",
    "                self.add(block)\n",
    "                print(block)\n",
    "                break\n",
    "            else:\n",
    "                block.nonce += 1\n",
    "   \n"
   ]
  },
  {
   "cell_type": "markdown",
   "metadata": {},
   "source": [
    "#### Print the blockchain"
   ]
  },
  {
   "cell_type": "code",
   "execution_count": 5,
   "metadata": {
    "collapsed": false
   },
   "outputs": [
    {
     "name": "stdout",
     "output_type": "stream",
     "text": [
      "Block Hash: 43deeaa2201a8b8525e1e0bac20ba8f4f577b327b078ae9d0ba656371583af62\n",
      "BlockNo: 1\n",
      "Block Data: Block 1\n",
      "Hashes: 1532379\n",
      "--------------\n",
      "Block Hash: 0703e1f838b3167d7d28a8753a9b4ebfe4445506a6586194fd2ba49df976b6d1\n",
      "BlockNo: 2\n",
      "Block Data: Block 2\n",
      "Hashes: 1775442\n",
      "--------------\n",
      "Block Hash: 61abd8afc19267dbdbd04b365b6baedec9eec78094d5f7067de4ff6cd56008e5\n",
      "BlockNo: 3\n",
      "Block Data: Block 3\n",
      "Hashes: 862321\n",
      "--------------\n",
      "Block Hash: 89ed83f444f123e1ee581a8bafb539efac8f29762fafb8cd0cf7e48b59a1ae81\n",
      "BlockNo: 4\n",
      "Block Data: Block 4\n",
      "Hashes: 71128\n",
      "--------------\n",
      "Block Hash: 343bece2c880756603f2ff89eb302abc6bc5c5071da4c0978a58c823653322b0\n",
      "BlockNo: 5\n",
      "Block Data: Block 5\n",
      "Hashes: 163981\n",
      "--------------\n",
      "Block Hash: 601de597aa0b61cf462e06b231bef7f1291e3d6b0bfd20e7a761c476c6fff7c9\n",
      "BlockNo: 6\n",
      "Block Data: Block 6\n",
      "Hashes: 1895910\n",
      "--------------\n",
      "Block Hash: 4d347378b123075e529d300e557ca555e73c0ccbbf013a23de1ab1bc013d1219\n",
      "BlockNo: 7\n",
      "Block Data: Block 7\n",
      "Hashes: 2452057\n",
      "--------------\n",
      "Block Hash: 2483d313b9744f1403c8c203e1cc127cdf3b47a325783c6b98d5926e9aa25dc0\n",
      "BlockNo: 8\n",
      "Block Data: Block 8\n",
      "Hashes: 1335931\n",
      "--------------\n",
      "Block Hash: 4164be1dfa61182147673bfff96efe46f7d6da76195bc8d097a254c4e47f08b7\n",
      "BlockNo: 9\n",
      "Block Data: Block 9\n",
      "Hashes: 1334475\n",
      "--------------\n",
      "Block Hash: 9c13d0d531639dc87b29e7da0811d59fd7a80f00ecce0bdbd22afef48db536bb\n",
      "BlockNo: 10\n",
      "Block Data: Block 10\n",
      "Hashes: 78864\n",
      "--------------\n",
      "Block Hash: 2d4f88d25a3277fcfe988a936248884c92ace3f14cb433fc6abe9d0dffe16bcb\n",
      "BlockNo: 0\n",
      "Block Data: Genesis\n",
      "Hashes: 0\n",
      "--------------\n",
      "Block Hash: 43deeaa2201a8b8525e1e0bac20ba8f4f577b327b078ae9d0ba656371583af62\n",
      "BlockNo: 1\n",
      "Block Data: Block 1\n",
      "Hashes: 1532379\n",
      "--------------\n",
      "Block Hash: 0703e1f838b3167d7d28a8753a9b4ebfe4445506a6586194fd2ba49df976b6d1\n",
      "BlockNo: 2\n",
      "Block Data: Block 2\n",
      "Hashes: 1775442\n",
      "--------------\n",
      "Block Hash: 61abd8afc19267dbdbd04b365b6baedec9eec78094d5f7067de4ff6cd56008e5\n",
      "BlockNo: 3\n",
      "Block Data: Block 3\n",
      "Hashes: 862321\n",
      "--------------\n",
      "Block Hash: 89ed83f444f123e1ee581a8bafb539efac8f29762fafb8cd0cf7e48b59a1ae81\n",
      "BlockNo: 4\n",
      "Block Data: Block 4\n",
      "Hashes: 71128\n",
      "--------------\n",
      "Block Hash: 343bece2c880756603f2ff89eb302abc6bc5c5071da4c0978a58c823653322b0\n",
      "BlockNo: 5\n",
      "Block Data: Block 5\n",
      "Hashes: 163981\n",
      "--------------\n",
      "Block Hash: 601de597aa0b61cf462e06b231bef7f1291e3d6b0bfd20e7a761c476c6fff7c9\n",
      "BlockNo: 6\n",
      "Block Data: Block 6\n",
      "Hashes: 1895910\n",
      "--------------\n",
      "Block Hash: 4d347378b123075e529d300e557ca555e73c0ccbbf013a23de1ab1bc013d1219\n",
      "BlockNo: 7\n",
      "Block Data: Block 7\n",
      "Hashes: 2452057\n",
      "--------------\n",
      "Block Hash: 2483d313b9744f1403c8c203e1cc127cdf3b47a325783c6b98d5926e9aa25dc0\n",
      "BlockNo: 8\n",
      "Block Data: Block 8\n",
      "Hashes: 1335931\n",
      "--------------\n",
      "Block Hash: 4164be1dfa61182147673bfff96efe46f7d6da76195bc8d097a254c4e47f08b7\n",
      "BlockNo: 9\n",
      "Block Data: Block 9\n",
      "Hashes: 1334475\n",
      "--------------\n",
      "Block Hash: 9c13d0d531639dc87b29e7da0811d59fd7a80f00ecce0bdbd22afef48db536bb\n",
      "BlockNo: 10\n",
      "Block Data: Block 10\n",
      "Hashes: 78864\n",
      "--------------\n"
     ]
    }
   ],
   "source": [
    "#initialize blockchain\n",
    "blockchain = Blockchain()\n",
    "\n",
    "#mine 10 blocks\n",
    "for n in range(10):\n",
    "    blockchain.mine(Block(\"Block \" + str(n+1)))\n",
    "    \n",
    "#print out each block in the blockchain\n",
    "while blockchain.head != None:\n",
    "    print(blockchain.head)\n",
    "    blockchain.head = blockchain.head.next"
   ]
  },
  {
   "cell_type": "markdown",
   "metadata": {},
   "source": [
    "# God I am loving this ....."
   ]
  },
  {
   "cell_type": "code",
   "execution_count": null,
   "metadata": {
    "collapsed": true
   },
   "outputs": [],
   "source": []
  }
 ],
 "metadata": {
  "kernelspec": {
   "display_name": "Python 3",
   "language": "python",
   "name": "python3"
  },
  "language_info": {
   "codemirror_mode": {
    "name": "ipython",
    "version": 3
   },
   "file_extension": ".py",
   "mimetype": "text/x-python",
   "name": "python",
   "nbconvert_exporter": "python",
   "pygments_lexer": "ipython3",
   "version": "3.5.2"
  }
 },
 "nbformat": 4,
 "nbformat_minor": 2
}
